{
 "cells": [
  {
   "cell_type": "code",
   "execution_count": 13,
   "metadata": {},
   "outputs": [
    {
     "name": "stdout",
     "output_type": "stream",
     "text": [
      "Train_data -> [30, 30, 30, 90, 20, 80, 30, 80, 40, 10]   Test_data -> [ 50  60  70 100]\n",
      "Train_data -> [50, 80, 20, 20, 40, 40, 50, 100, 70, 70]   Test_data -> [10 30 60 90]\n",
      "Train_data -> [10, 80, 40, 80, 90, 100, 30, 80, 90, 20]   Test_data -> [50 60 70]\n",
      "Train_data -> [30, 30, 40, 70, 70, 50, 100, 100, 70, 20]   Test_data -> [10 60 80 90]\n",
      "Train_data -> [90, 30, 100, 40, 10, 30, 30, 50, 10, 30]   Test_data -> [20 60 70 80]\n",
      "Train_data -> [30, 40, 30, 20, 80, 20, 10, 30, 50, 40]   Test_data -> [ 60  70  90 100]\n",
      "Train_data -> [70, 30, 60, 30, 80, 100, 40, 20, 70, 70]   Test_data -> [10 50 90]\n",
      "Train_data -> [100, 30, 70, 100, 90, 90, 10, 60, 60, 70]   Test_data -> [20 40 50 80]\n",
      "Train_data -> [40, 40, 30, 90, 90, 30, 90, 10, 60, 100]   Test_data -> [20 50 70 80]\n",
      "Train_data -> [10, 90, 70, 70, 30, 20, 70, 70, 90, 40]   Test_data -> [ 50  60  80 100]\n",
      "Train_data -> [100, 40, 100, 90, 100, 50, 30, 50, 20, 40]   Test_data -> [10 60 70 80]\n",
      "Train_data -> [50, 20, 10, 50, 50, 20, 60, 20, 40, 100]   Test_data -> [30 70 80 90]\n",
      "Train_data -> [10, 20, 10, 40, 60, 30, 20, 30, 80, 80]   Test_data -> [ 50  70  90 100]\n",
      "Train_data -> [50, 90, 50, 60, 50, 90, 40, 30, 40, 50]   Test_data -> [ 10  20  70  80 100]\n",
      "Train_data -> [100, 70, 100, 70, 100, 70, 90, 20, 20, 60]   Test_data -> [10 30 40 50 80]\n",
      "Train_data -> [80, 30, 100, 60, 40, 20, 100, 70, 20, 60]   Test_data -> [10 50 90]\n",
      "Train_data -> [20, 100, 50, 70, 50, 10, 50, 60, 30, 70]   Test_data -> [40 80 90]\n",
      "Train_data -> [10, 60, 90, 40, 50, 100, 50, 50, 20, 80]   Test_data -> [30 70]\n",
      "Train_data -> [20, 30, 80, 10, 100, 80, 60, 90, 50, 80]   Test_data -> [40 70]\n",
      "Train_data -> [10, 20, 70, 10, 80, 60, 50, 20, 20, 10]   Test_data -> [ 30  40  90 100]\n",
      "Train_data -> [90, 70, 50, 100, 20, 60, 60, 90, 60, 70]   Test_data -> [10 30 40 80]\n",
      "Train_data -> [80, 20, 100, 10, 80, 30, 100, 20, 60, 100]   Test_data -> [40 50 70 90]\n",
      "Train_data -> [10, 90, 20, 90, 50, 80, 30, 100, 10, 80]   Test_data -> [40 60 70]\n",
      "Train_data -> [100, 30, 30, 70, 90, 30, 30, 90, 100, 10]   Test_data -> [20 40 50 60 80]\n",
      "Train_data -> [20, 10, 40, 20, 20, 40, 20, 90, 100, 50]   Test_data -> [30 60 70 80]\n",
      "Train_data -> [20, 100, 50, 60, 80, 70, 90, 20, 90, 40]   Test_data -> [10 30]\n",
      "Train_data -> [70, 20, 100, 20, 40, 60, 30, 80, 80, 70]   Test_data -> [10 50 90]\n",
      "Train_data -> [70, 50, 80, 60, 100, 60, 40, 80, 70, 100]   Test_data -> [10 20 30 90]\n",
      "Train_data -> [40, 90, 80, 20, 10, 70, 10, 80, 90, 60]   Test_data -> [ 30  50 100]\n",
      "Train_data -> [50, 80, 90, 90, 80, 80, 80, 20, 30, 90]   Test_data -> [ 10  40  60  70 100]\n",
      "Train_data -> [90, 40, 40, 80, 20, 80, 90, 30, 50, 90]   Test_data -> [ 10  60  70 100]\n",
      "Train_data -> [40, 50, 100, 100, 70, 60, 40, 100, 50, 10]   Test_data -> [20 30 80 90]\n",
      "Train_data -> [30, 20, 30, 70, 20, 20, 30, 80, 40, 70]   Test_data -> [ 10  50  60  90 100]\n",
      "Train_data -> [10, 10, 70, 50, 60, 40, 70, 70, 100, 10]   Test_data -> [20 30 80 90]\n",
      "Train_data -> [10, 40, 50, 100, 30, 100, 20, 10, 80, 70]   Test_data -> [60 90]\n",
      "Train_data -> [90, 30, 10, 70, 50, 40, 30, 100, 20, 40]   Test_data -> [60 80]\n",
      "Train_data -> [40, 50, 90, 100, 30, 100, 90, 30, 50, 70]   Test_data -> [10 20 60 80]\n",
      "Train_data -> [30, 10, 20, 70, 60, 90, 90, 30, 70, 60]   Test_data -> [ 40  50  80 100]\n",
      "Train_data -> [100, 60, 90, 20, 100, 70, 20, 50, 70, 100]   Test_data -> [10 30 40 80]\n",
      "Train_data -> [50, 90, 30, 60, 40, 80, 20, 10, 40, 90]   Test_data -> [ 70 100]\n",
      "Train_data -> [10, 30, 20, 10, 80, 60, 20, 40, 20, 70]   Test_data -> [ 50  90 100]\n",
      "Train_data -> [90, 100, 60, 80, 10, 90, 20, 30, 30, 30]   Test_data -> [40 50 70]\n",
      "Train_data -> [60, 70, 70, 100, 20, 30, 20, 50, 60, 70]   Test_data -> [10 40 80 90]\n",
      "Train_data -> [20, 10, 50, 30, 90, 50, 100, 80, 40, 100]   Test_data -> [60 70]\n",
      "Train_data -> [10, 30, 10, 40, 80, 60, 20, 40, 60, 30]   Test_data -> [ 50  70  90 100]\n",
      "Train_data -> [60, 100, 70, 70, 70, 20, 30, 90, 90, 20]   Test_data -> [10 40 50 80]\n",
      "Train_data -> [40, 80, 80, 20, 80, 90, 50, 30, 30, 80]   Test_data -> [ 10  60  70 100]\n",
      "Train_data -> [10, 50, 60, 70, 100, 60, 30, 80, 100, 70]   Test_data -> [20 40 90]\n",
      "Train_data -> [80, 20, 40, 100, 10, 90, 50, 40, 90, 20]   Test_data -> [30 60 70]\n",
      "Train_data -> [10, 70, 60, 50, 50, 100, 40, 50, 80, 50]   Test_data -> [20 30 90]\n"
     ]
    }
   ],
   "source": [
    "from sklearn.utils import resample\n",
    "import numpy as np\n",
    "\n",
    "# load dataset\n",
    "data = [10,20,30,40,50,60,70,80,90,100]   # original data with 10 data points\n",
    "\n",
    "# configure bootstrap\n",
    "n_iterations = 50              # picking only 50 % of the given data in every bootstrap sample\n",
    "n_size = int(len(data) * 1)    # Number of bootstrap samples to create = 10\n",
    "\n",
    "# run bootstrap\n",
    "stats = list() \n",
    "for i in range(n_iterations):\n",
    "\t# prepare train and test sets\n",
    "\ttrain = resample(data, n_samples=n_size)  # Sampling with replacement \n",
    "\ttest = np.array([x for x in data if x not in train])  # picking rest of the data not considered in sample\n",
    "\tprint(\"Train_data ->\", train, \" \" , \"Test_data ->\", test)\n"
   ]
  },
  {
   "cell_type": "code",
   "execution_count": null,
   "metadata": {},
   "outputs": [],
   "source": []
  },
  {
   "cell_type": "code",
   "execution_count": null,
   "metadata": {},
   "outputs": [],
   "source": []
  }
 ],
 "metadata": {
  "kernelspec": {
   "display_name": "Python 3",
   "language": "python",
   "name": "python3"
  },
  "language_info": {
   "codemirror_mode": {
    "name": "ipython",
    "version": 3
   },
   "file_extension": ".py",
   "mimetype": "text/x-python",
   "name": "python",
   "nbconvert_exporter": "python",
   "pygments_lexer": "ipython3",
   "version": "3.7.0"
  }
 },
 "nbformat": 4,
 "nbformat_minor": 2
}
